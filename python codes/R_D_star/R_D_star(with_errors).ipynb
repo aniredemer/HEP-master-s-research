{
 "cells": [
  {
   "cell_type": "code",
   "execution_count": 3,
   "metadata": {
    "colab": {
     "base_uri": "https://localhost:8080/"
    },
    "id": "BfhjUsEuzgQi",
    "outputId": "07bbf7c2-08a1-4ec4-b611-a3a7a6017d49"
   },
   "outputs": [
    {
     "name": "stdout",
     "output_type": "stream",
     "text": [
      "0.2521854290712071\n",
      "0.25432053126389614\n",
      "0.25005283910368575\n"
     ]
    }
   ],
   "source": [
    "#DBR's\n",
    "D_B_R_taumode = 0.013302509198773606\n",
    "D_B_R_emode = 0.05274892069603874\n",
    "\n",
    "#DBR with + error\n",
    "D_B_R_taumode_upper = 0.014273657490870093\n",
    "D_B_R_emode_upper = 0.056124676289147135\n",
    "\n",
    "#DBR with - error\n",
    "D_B_R_taumode_lower = 0.012375808118615137\n",
    "D_B_R_emode_lower = 0.049492771859644596\n",
    "\n",
    "# R_D_star calculations\n",
    "R_D_star = D_B_R_taumode/D_B_R_emode\n",
    "R_D_star_upper = D_B_R_taumode_upper/D_B_R_emode_upper\n",
    "R_D_star_lower = D_B_R_taumode_lower/D_B_R_emode_lower\n",
    "\n",
    "print(R_D_star)\n",
    "print(R_D_star_upper)\n",
    "print(R_D_star_lower)\n",
    "\n",
    "\n"
   ]
  },
  {
   "cell_type": "markdown",
   "metadata": {
    "id": "Jgflht4z2Jjz"
   },
   "source": [
    "R_D_star errors"
   ]
  },
  {
   "cell_type": "code",
   "execution_count": 7,
   "metadata": {
    "colab": {
     "base_uri": "https://localhost:8080/"
    },
    "id": "ZpyMmovi1igT",
    "outputId": "111d3a77-fabc-47e0-ffd1-f89504a0e6c4"
   },
   "outputs": [
    {
     "name": "stdout",
     "output_type": "stream",
     "text": [
      "0.0021351021926890312\n",
      "0.002132589967521359\n"
     ]
    }
   ],
   "source": [
    "# calculating errors\n",
    "print(R_D_star_upper - R_D_star)\n",
    "print(R_D_star - R_D_star_lower)"
   ]
  }
 ],
 "metadata": {
  "colab": {
   "provenance": []
  },
  "kernelspec": {
   "display_name": "Python 3 (ipykernel)",
   "language": "python",
   "name": "python3"
  },
  "language_info": {
   "codemirror_mode": {
    "name": "ipython",
    "version": 3
   },
   "file_extension": ".py",
   "mimetype": "text/x-python",
   "name": "python",
   "nbconvert_exporter": "python",
   "pygments_lexer": "ipython3",
   "version": "3.9.13"
  }
 },
 "nbformat": 4,
 "nbformat_minor": 1
}
