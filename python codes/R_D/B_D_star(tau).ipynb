{
 "cells": [
  {
   "cell_type": "code",
   "execution_count": null,
   "id": "b2bfaed9",
   "metadata": {},
   "outputs": [],
   "source": [
    "#for tau mode\n",
    "import numpy as np\n",
    "from sympy import Symbol, integrate, sqrt, cos\n",
    "import matplotlib.pyplot as plt\n",
    "\n",
    "# Constants\n",
    "#w = 1.59\n",
    "G_F = 1.1663787*10**(-5)\n",
    "V_cb = 40.9*10**(-3)\n",
    "tau_b_0 = 1.519*10**(-12)\n",
    "\n",
    "# Masses in GeV/c^2\n",
    "m_D = 1.86486\n",
    "m_D_star= 2.00698 \n",
    "m_B = 5.27955\n",
    "m_b = 4.18\n",
    "m_c = 1.275\n",
    "m_tau = 1.77686\n",
    "#r = m_D/m_B\n",
    "\n",
    "#wiloson's coefficents\n",
    "C_V_LL = 0\n",
    "C_V_RL = 0\n",
    "C_T_LL = 0\n",
    "C_TR_LL = 0\n",
    "C_V_RR = 0\n",
    "C_V_LR = 0\n",
    "C_S_LR = 0\n",
    "C_T_RR = 0\n",
    "\n",
    "\n",
    "\n",
    "# Spacing and defining range\n",
    "q_2 = np.linspace(m_tau**2, (m_B - m_D_star)**2, 10000)\n",
    "q_0 = np.sqrt(q_2)\n",
    "\n",
    "def d_gamma(q_2):\n",
    "  lamda_D = m_B**4 + m_D_star**4 + q_2**2 - 2 * m_B**2 * m_D_star**2 - 2 * m_D_star**2 * q_2 - 2 * m_B**2 * q_2\n",
    "  \n",
    "  #h factors\n",
    "  h_V = \n",
    "  h_A1 = \n",
    "  h_A2 = \n",
    "  h_A3 = \n",
    "\n",
    "  #form_factor\n",
    "  V = (m_B+m_D_star)/(2*np.sqrt(m_B*m_D_star))*h_V\n",
    "  A_1 = ((m_B+m_D_star)**2-q_2)/(2*(np.sqrt(m_B*m_D_star))*(m_B+m_D_star))*h_A1\n",
    "  A_2 = (m_B+m_D_star)/(2*np.sqrt(m_B*m_D_star))*(h_A3+(m_D_star/m_B)*h_A2)\n",
    "  A_0 = ((1/2*np.sqrt(m_B*m_D_star))*(((m_B+m_D_star)**2-q_2)/(2*m_D_star))*h_A1-((m_B**2-m_D_star**2+q_2)/2*m_B)*h_A2-((m_B**2-m_D_star**2-q_2)/(2*m_D_star))*h_A3)\n",
    "  #hadronic helicity amplitude\n",
    "  H_V_0 = (m_B+m_D_star)/(2*m_D_star*np.sqrt(q_2))*(-(m_B**2-m_D_star**2-q_2)*A_1+(np.sqrt(lamda_D)/(m_B+m_D_star)**2)*A_2)\n",
    "  H_V_plus = (m_B+m_D_star)*A_1-(np.sqrt(lamda_D)/(m_B+m_D_star))*V\n",
    "  H_V_plus = (m_B+m_D_star)*A_1+(np.sqrt(lamda_D)/(m_B+m_D_star))*V\n",
    "  H_V_t = np.sqrt(lamda_D/q_2)*A_0\n",
    "  H_S = -np.sqrt(lamda_D)\n",
    "  \n",
    "\n",
    "\n",
    "\n",
    "\n"
   ]
  },
  {
   "cell_type": "code",
   "execution_count": 2,
   "id": "2f91c190",
   "metadata": {},
   "outputs": [
    {
     "name": "stdout",
     "output_type": "stream",
     "text": [
      "1.0 2.0\n"
     ]
    }
   ],
   "source": [
    "\n",
    "a=1+2j\n",
    "x=a.real\n",
    "y=a.imag\n",
    "print(x,y)\n"
   ]
  },
  {
   "cell_type": "code",
   "execution_count": 3,
   "id": "3404ddd7",
   "metadata": {},
   "outputs": [
    {
     "name": "stdout",
     "output_type": "stream",
     "text": [
      "1.0 2.0\n"
     ]
    }
   ],
   "source": [
    "\n",
    "a=1+2j\n",
    "x=a.real\n",
    "y=a.imag\n",
    "print(x,y)\n"
   ]
  },
  {
   "cell_type": "code",
   "execution_count": 4,
   "id": "10d7d974",
   "metadata": {},
   "outputs": [
    {
     "ename": "NameError",
     "evalue": "name 'np' is not defined",
     "output_type": "error",
     "traceback": [
      "\u001b[1;31m---------------------------------------------------------------------------\u001b[0m",
      "\u001b[1;31mNameError\u001b[0m                                 Traceback (most recent call last)",
      "\u001b[1;32m~\\AppData\\Local\\Temp\\ipykernel_732\\715190659.py\u001b[0m in \u001b[0;36m<module>\u001b[1;34m\u001b[0m\n\u001b[1;32m----> 1\u001b[1;33m \u001b[0mnp\u001b[0m\u001b[1;33m.\u001b[0m\u001b[0mconjugate\u001b[0m\u001b[1;33m(\u001b[0m\u001b[1;36m1\u001b[0m\u001b[1;33m+\u001b[0m\u001b[1;36m2j\u001b[0m\u001b[1;33m)\u001b[0m\u001b[1;33m\u001b[0m\u001b[1;33m\u001b[0m\u001b[0m\n\u001b[0m",
      "\u001b[1;31mNameError\u001b[0m: name 'np' is not defined"
     ]
    }
   ],
   "source": [
    "np.conjugate(1+2j)"
   ]
  },
  {
   "cell_type": "code",
   "execution_count": 5,
   "id": "eecd0347",
   "metadata": {},
   "outputs": [
    {
     "data": {
      "text/plain": [
       "(1-2j)"
      ]
     },
     "execution_count": 5,
     "metadata": {},
     "output_type": "execute_result"
    }
   ],
   "source": [
    "import numpy as np\n",
    "np.conjugate(1+2j)"
   ]
  },
  {
   "cell_type": "code",
   "execution_count": null,
   "id": "9c5f335f",
   "metadata": {},
   "outputs": [],
   "source": []
  }
 ],
 "metadata": {
  "kernelspec": {
   "display_name": "Python 3 (ipykernel)",
   "language": "python",
   "name": "python3"
  },
  "language_info": {
   "codemirror_mode": {
    "name": "ipython",
    "version": 3
   },
   "file_extension": ".py",
   "mimetype": "text/x-python",
   "name": "python",
   "nbconvert_exporter": "python",
   "pygments_lexer": "ipython3",
   "version": "3.9.13"
  }
 },
 "nbformat": 4,
 "nbformat_minor": 5
}
