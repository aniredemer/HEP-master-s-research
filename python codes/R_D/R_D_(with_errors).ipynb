{
  "nbformat": 4,
  "nbformat_minor": 0,
  "metadata": {
    "colab": {
      "provenance": []
    },
    "kernelspec": {
      "name": "python3",
      "display_name": "Python 3"
    },
    "language_info": {
      "name": "python"
    }
  },
  "cells": [
    {
      "cell_type": "code",
      "execution_count": 7,
      "metadata": {
        "colab": {
          "base_uri": "https://localhost:8080/"
        },
        "id": "5j8vX8PfKUQd",
        "outputId": "c494f926-8360-4cb5-c104-3b17bba260fa"
      },
      "outputs": [
        {
          "output_type": "stream",
          "name": "stdout",
          "text": [
            "0.2991883197246575\n",
            "0.2756561797710007\n",
            "0.32681623371922924\n"
          ]
        }
      ],
      "source": [
        "# DBR value\n",
        "D_B_R_taumode = 0.00662716318692648\n",
        "D_B_R_emode = 0.022150474300017618\n",
        "\n",
        "#DBR(+ error)\n",
        "D_B_R_taumode_upper = 0.007378832866466289\n",
        "D_B_R_emode_upper = 0.026768247577820304\n",
        "\n",
        "#DBR (- error)\n",
        "D_B_R_taumode_lower = 0.005936439247916277\n",
        "D_B_R_emode_lower = 0.018164456460312572\n",
        "\n",
        "# R_D_star calculations\n",
        "R_D = D_B_R_taumode/D_B_R_emode\n",
        "R_D_upper = D_B_R_taumode_upper/D_B_R_emode_upper\n",
        "R_D_lower = D_B_R_taumode_lower/D_B_R_emode_lower\n",
        "\n",
        "print(R_D)\n",
        "print(R_D_upper)\n",
        "print(R_D_lower)"
      ]
    },
    {
      "cell_type": "code",
      "source": [
        "# calculating errors\n",
        "print(R_D_upper - R_D)\n",
        "print(R_D - R_D_lower)"
      ],
      "metadata": {
        "colab": {
          "base_uri": "https://localhost:8080/"
        },
        "id": "P35gpFmGLU7l",
        "outputId": "4744beb7-e72e-40e8-913d-46d05d2116d3"
      },
      "execution_count": 8,
      "outputs": [
        {
          "output_type": "stream",
          "name": "stdout",
          "text": [
            "-0.023532139953656772\n",
            "-0.027627913994571762\n"
          ]
        }
      ]
    }
  ]
}