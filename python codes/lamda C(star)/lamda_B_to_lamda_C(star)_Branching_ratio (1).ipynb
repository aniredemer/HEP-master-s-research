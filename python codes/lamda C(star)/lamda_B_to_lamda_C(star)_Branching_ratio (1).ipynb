{
  "nbformat": 4,
  "nbformat_minor": 0,
  "metadata": {
    "colab": {
      "provenance": []
    },
    "kernelspec": {
      "name": "python3",
      "display_name": "Python 3"
    },
    "language_info": {
      "name": "python"
    }
  },
  "cells": [
    {
      "cell_type": "code",
      "source": [
        "#for tau mode\n",
        "\n",
        "import numpy as np\n",
        "from sympy import Symbol, integrate, sqrt, cos, exp\n",
        "import matplotlib.pyplot as plt\n",
        "\n",
        "# Constants\n",
        "#w = 1.59\n",
        "G_F = 1.1663787*10**(-5)\n",
        "V_cb = 40.9*10**(-3)\n",
        "tau_l_b = 1.409*10**(-12)\n",
        "\n",
        "tau_total = 6.58*10**(-25)/tau_l_b\n",
        "print(tau_total)\n",
        "\n",
        "#masses(GeV)\n",
        "m_l_b = 5.6202\n",
        "m_l_c = 2.59225\n",
        "m_tau = 1.77686\n",
        "m_e = 0.000511\n",
        "#m_uon = 0.1057\n",
        "\n",
        "m_l = m_tau\n",
        "# Spacing and defining range\n",
        "\n",
        "q_2 = np.linspace(m_l**2, (m_l_b - m_l_c)**2, 10000)\n",
        "#q_2 = 5\n",
        "#q_2 = 8.168481202499999\n",
        "#def the function and J =1/2  case\n",
        "def D_gamma_tau(m_l,q_2):\n",
        "  g_L = 0\n",
        "  g_R = 0\n",
        "  g_S = 0\n",
        "  g_P = 0\n",
        "\n",
        "  lamda_l = ((m_l_b-m_l_c)**2 -q_2)*((m_l_b+m_l_c)**2-q_2)\n",
        "\n",
        "  sigma_G =  1\n",
        "  m_1 = m_l_b + m_l_c\n",
        "  m_2 = m_l_b - m_l_c\n",
        "\n",
        "  Q_1 = m_1**2 - q_2      #Qplus\n",
        "  Q_2 = m_2**2 - q_2      #Qminus\n",
        "\n",
        "\n",
        "  w = ((m_l_b**2 + m_l_c**2-q_2)/(2*m_l_b*m_l_c))\n",
        "  s_1 = (m_l_b + m_l_c)**2 - q_2    #s-plus\n",
        "  s_2 = (m_l_b - m_l_c)**2 - q_2    # s- minus\n",
        "\n",
        "  #form factors\n",
        "  f_0 = 0.545 + (-2.21)*(w-1)\n",
        "  f_plus = 0.1628 + 1.16*(w-1)\n",
        "  f_90 = 0.1690 + 0.57*(w-1)\n",
        "\n",
        "  g_0 = 0.221 +  0.94*(w-1)\n",
        "  g_plus = 0.582 + (-2.24)*(w-1)\n",
        "  g_90 = 1.22 + (-6.1)*(w-1)\n",
        "\n",
        "\n",
        "\n",
        "  #helicty amplitudes\n",
        "  F_V_1 = sigma_G*(((m_l_b - m_l_c)**2*(f_90 - f_plus)/s_2)) - f_90\n",
        "  F_V_2 = sigma_G*m_l_b*(m_l_b - m_l_c)*(f_90 - f_plus)/(s_2)\n",
        "  F_V_3 = sigma_G*(m_l_b*(m_l_b + m_l_c))*(s_2*f_0 + q_2*f_90 - (m_l_b - m_l_c)**2*f_plus)/(q_2*s_2)\n",
        "\n",
        "  F_A_1 = sigma_G*((m_l_b + m_l_c)**(2)*((g_90 - g_plus)/s_1)) - g_90\n",
        "  F_A_2 = (sigma_G*m_l_b*(m_l_b + m_l_c)*(g_90 - g_plus)/s_1)\n",
        "  F_A_3 = sigma_G*((m_l_b*(m_l_b - m_l_c)*(-s_1*g_0 - q_2*g_90 + (m_l_b + m_l_c)**2*g_plus))/(q_2*s_1))\n",
        "\n",
        "\n",
        "  H_V_t = (1+ g_L + g_R)*(np.sqrt(Q_2/q_2)*(F_V_1*m_1 - F_V_3*(q_2/m_l_b)))\n",
        "  H_V_0 = (1+ g_L + g_R)*(np.sqrt(Q_1/q_2)*(F_V_1*m_2 - F_V_2*(q_2/m_l_b)))\n",
        "  H_V_1 = (1+ g_L + g_R)*(np.sqrt(2*Q_1)*(-F_V_1 + F_V_2*(m_2/m_l_b)))\n",
        "\n",
        "  H_A_t = (1+ g_L - g_R)*(np.sqrt(Q_1/q_2)*(F_A_1*m_2 + F_A_3*(q_2/m_l_b)))\n",
        "  H_A_0 = (1+ g_L - g_R)*(np.sqrt(Q_2/q_2)*(F_A_1*m_1 + F_A_2*(q_2/m_l_b)))\n",
        "  H_A_1 = (1+ g_L - g_R)*(np.sqrt(2*Q_2)*(-F_A_1 - F_A_2*(m_1/m_l_b)))\n",
        "\n",
        "\n",
        "  #B_SM_1\n",
        "  H_phalf_0 = H_V_0 - H_A_0\n",
        "  H_mhalf_0 = H_V_0 + H_A_0\n",
        "  H_phalf_1 = H_V_1 - H_A_1\n",
        "  H_mhalf_1 = H_V_1 + H_A_1\n",
        "  H_phalf_t = H_V_t - H_A_t\n",
        "  H_mhalf_t = H_V_t + H_A_t\n",
        "\n",
        "  B_SM_1 = abs(H_phalf_0)**2 + abs(H_mhalf_0)**2 + abs(H_phalf_1)**2 + abs(H_mhalf_1)**2\n",
        "  B_SM_2 = abs(H_phalf_0)**2 + abs(H_mhalf_0)**2 + abs(H_phalf_1)**2 + abs(H_mhalf_1)**2 + 3*(abs(H_phalf_t)**2 + abs(H_mhalf_t)**2)\n",
        "\n",
        "  #B_NP\n",
        "  H_S_0 = (g_S*np.sqrt(Q_1)*(F_V_1*m_1 - F_V_3*(q_2/m_l_b)))/(m_l_b - m_l_c)\n",
        "  H_P_0 = (-g_P*np.sqrt(Q_2)*(F_A_1*m_2 + F_A_3*(q_2/m_l_b)))/(m_l_b + m_l_c)\n",
        "  H_SP_phalf_0 = H_P_0 + H_S_0\n",
        "  H_SP_mhalf_0 = -H_P_0 + H_S_0\n",
        "\n",
        "  B_NP_3 = abs(H_SP_phalf_0)**2 + abs(H_SP_mhalf_0)**2\n",
        "\n",
        "  #B_int_4\n",
        "  B_int_4 = (H_phalf_t*np.conjugate(H_SP_phalf_0) + H_mhalf_t*np.conjugate(H_SP_mhalf_0)).real\n",
        "\n",
        "\n",
        "\n",
        "\n",
        "\n",
        "  #differential decay distribution\n",
        "  p_l_c = (np.sqrt(lamda_l))/(2*m_l_b)\n",
        "  gamma_0 = ((G_F**(2))*abs(V_cb)**2*q_2*abs(p_l_c)/(192*np.pi**3*m_l_b**2))*(1-(m_l**2/q_2))**2\n",
        "  D_gamma_tau = gamma_0*(B_SM_1 +((m_l**2)/(2*q_2))*B_SM_2 + (3/2)*B_NP_3 + (3*m_l/np.sqrt(q_2))*B_int_4)\n",
        "#print(gamma_0)\n",
        "  return D_gamma_tau\n",
        "#print(D_gamma_uon)\n",
        "print(D_gamma_tau(m_l,q_2))"
      ],
      "metadata": {
        "colab": {
          "base_uri": "https://localhost:8080/"
        },
        "id": "Z6bDU1nRMrx9",
        "outputId": "dfab8bdc-c893-45f5-955d-ce017a59f419"
      },
      "execution_count": 2,
      "outputs": [
        {
          "output_type": "stream",
          "name": "stdout",
          "text": [
            "4.669978708303762e-13\n",
            "[0.00000000e+00 5.61532189e-23 2.24476549e-22 ... 1.61467884e-18\n",
            " 1.14137396e-18            nan]\n"
          ]
        },
        {
          "output_type": "stream",
          "name": "stderr",
          "text": [
            "<ipython-input-2-825c968b59e2>:62: RuntimeWarning: divide by zero encountered in divide\n",
            "  F_V_1 = sigma_G*(((m_l_b - m_l_c)**2*(f_90 - f_plus)/s_2)) - f_90\n",
            "<ipython-input-2-825c968b59e2>:63: RuntimeWarning: divide by zero encountered in divide\n",
            "  F_V_2 = sigma_G*m_l_b*(m_l_b - m_l_c)*(f_90 - f_plus)/(s_2)\n",
            "<ipython-input-2-825c968b59e2>:64: RuntimeWarning: divide by zero encountered in divide\n",
            "  F_V_3 = sigma_G*(m_l_b*(m_l_b + m_l_c))*(s_2*f_0 + q_2*f_90 - (m_l_b - m_l_c)**2*f_plus)/(q_2*s_2)\n",
            "<ipython-input-2-825c968b59e2>:71: RuntimeWarning: invalid value encountered in subtract\n",
            "  H_V_t = (1+ g_L + g_R)*(np.sqrt(Q_2/q_2)*(F_V_1*m_1 - F_V_3*(q_2/m_l_b)))\n",
            "<ipython-input-2-825c968b59e2>:72: RuntimeWarning: invalid value encountered in subtract\n",
            "  H_V_0 = (1+ g_L + g_R)*(np.sqrt(Q_1/q_2)*(F_V_1*m_2 - F_V_2*(q_2/m_l_b)))\n",
            "<ipython-input-2-825c968b59e2>:73: RuntimeWarning: invalid value encountered in add\n",
            "  H_V_1 = (1+ g_L + g_R)*(np.sqrt(2*Q_1)*(-F_V_1 + F_V_2*(m_2/m_l_b)))\n",
            "<ipython-input-2-825c968b59e2>:92: RuntimeWarning: invalid value encountered in subtract\n",
            "  H_S_0 = (g_S*np.sqrt(Q_1)*(F_V_1*m_1 - F_V_3*(q_2/m_l_b)))/(m_l_b - m_l_c)\n"
          ]
        }
      ]
    },
    {
      "cell_type": "code",
      "source": [
        "from scipy.integrate import quad\n",
        "BR_tau,_= quad(lambda x:D_gamma_tau(m_l,x),m_l**(2),(m_l_b-m_l_c)**(2))\n",
        "print(BR_tau)"
      ],
      "metadata": {
        "colab": {
          "base_uri": "https://localhost:8080/"
        },
        "id": "KGmTXc5hWJj-",
        "outputId": "5e8d1946-236c-4e6d-d155-eb103af11d7e"
      },
      "execution_count": 3,
      "outputs": [
        {
          "output_type": "stream",
          "name": "stdout",
          "text": [
            "5.02747947187676e-16\n"
          ]
        }
      ]
    },
    {
      "cell_type": "code",
      "source": [
        "#for uon mode\n",
        "\n",
        "import numpy as np\n",
        "from sympy import Symbol, integrate, sqrt, cos, exp\n",
        "import matplotlib.pyplot as plt\n",
        "\n",
        "# Constants\n",
        "#w = 1.59\n",
        "G_F = 1.1663787*10**(-5)\n",
        "V_cb = 40.9*10**(-3)\n",
        "tau_l_b = 1.409*10**(-12)\n",
        "\n",
        "tau_total = 6.58*10**(-25)/tau_l_b\n",
        "print(tau_total)\n",
        "\n",
        "#masses(GeV)\n",
        "m_l_b = 5.6202\n",
        "m_l_c = 2.59225\n",
        "#m_tau = 1.77686\n",
        "m_e = 0.000511\n",
        "m_uon = 0.1057\n",
        "\n",
        "m_l = m_uon\n",
        "# Spacing and defining range\n",
        "\n",
        "q_2 = np.linspace(m_l**2, (m_l_b - m_l_c)**2, 10000)\n",
        "#q_2 = 5\n",
        "#q_2 = 8.168481202499999\n",
        "#def the function and J =1/2  case\n",
        "def D_gamma_uon(m_l,q_2):\n",
        "  g_L = 0\n",
        "  g_R = 0\n",
        "  g_S = 0\n",
        "  g_P = 0\n",
        "\n",
        "  lamda_l = ((m_l_b-m_l_c)**2 -q_2)*((m_l_b+m_l_c)**2-q_2)\n",
        "\n",
        "  sigma_G =  1\n",
        "  m_1 = m_l_b + m_l_c\n",
        "  m_2 = m_l_b - m_l_c\n",
        "\n",
        "  Q_1 = m_1**2 - q_2      #Qplus\n",
        "  Q_2 = m_2**2 - q_2      #Qminus\n",
        "\n",
        "\n",
        "  w = ((m_l_b**2 + m_l_c**2-q_2)/(2*m_l_b*m_l_c))\n",
        "  s_1 = (m_l_b + m_l_c)**2 - q_2    #s-plus\n",
        "  s_2 = (m_l_b - m_l_c)**2 - q_2    # s- minus\n",
        "\n",
        "  #form factors\n",
        "  f_0 = 0.545 + (-2.21)*(w-1)\n",
        "  f_plus = 0.1628 + 1.16*(w-1)\n",
        "  f_90 = 0.1690 + 0.57*(w-1)\n",
        "\n",
        "  g_0 = 0.221 +  0.94*(w-1)\n",
        "  g_plus = 0.582 + (-2.24)*(w-1)\n",
        "  g_90 = 1.22 + (-6.1)*(w-1)\n",
        "\n",
        "\n",
        "\n",
        "  #helicty amplitudes\n",
        "  F_V_1 = sigma_G*(((m_l_b - m_l_c)**2*(f_90 - f_plus)/s_2)) - f_90\n",
        "  F_V_2 = sigma_G*m_l_b*(m_l_b - m_l_c)*(f_90 - f_plus)/(s_2)\n",
        "  F_V_3 = sigma_G*(m_l_b*(m_l_b + m_l_c))*(s_2*f_0 + q_2*f_90 - (m_l_b - m_l_c)**2*f_plus)/(q_2*s_2)\n",
        "\n",
        "  F_A_1 = sigma_G*((m_l_b + m_l_c)**(2)*((g_90 - g_plus)/s_1)) - g_90\n",
        "  F_A_2 = (sigma_G*m_l_b*(m_l_b + m_l_c)*(g_90 - g_plus)/s_1)\n",
        "  F_A_3 = sigma_G*((m_l_b*(m_l_b - m_l_c)*(-s_1*g_0 - q_2*g_90 + (m_l_b + m_l_c)**2*g_plus))/(q_2*s_1))\n",
        "\n",
        "\n",
        "  H_V_t = (1+ g_L + g_R)*(np.sqrt(Q_2/q_2)*(F_V_1*m_1 - F_V_3*(q_2/m_l_b)))\n",
        "  H_V_0 = (1+ g_L + g_R)*(np.sqrt(Q_1/q_2)*(F_V_1*m_2 - F_V_2*(q_2/m_l_b)))\n",
        "  H_V_1 = (1+ g_L + g_R)*(np.sqrt(2*Q_1)*(-F_V_1 + F_V_2*(m_2/m_l_b)))\n",
        "\n",
        "  H_A_t = (1+ g_L - g_R)*(np.sqrt(Q_1/q_2)*(F_A_1*m_2 + F_A_3*(q_2/m_l_b)))\n",
        "  H_A_0 = (1+ g_L - g_R)*(np.sqrt(Q_2/q_2)*(F_A_1*m_1 + F_A_2*(q_2/m_l_b)))\n",
        "  H_A_1 = (1+ g_L - g_R)*(np.sqrt(2*Q_2)*(-F_A_1 - F_A_2*(m_1/m_l_b)))\n",
        "\n",
        "\n",
        "  #B_SM_1\n",
        "  H_phalf_0 = H_V_0 - H_A_0\n",
        "  H_mhalf_0 = H_V_0 + H_A_0\n",
        "  H_phalf_1 = H_V_1 - H_A_1\n",
        "  H_mhalf_1 = H_V_1 + H_A_1\n",
        "  H_phalf_t = H_V_t - H_A_t\n",
        "  H_mhalf_t = H_V_t + H_A_t\n",
        "\n",
        "  B_SM_1 = abs(H_phalf_0)**2 + abs(H_mhalf_0)**2 + abs(H_phalf_1)**2 + abs(H_mhalf_1)**2\n",
        "  B_SM_2 = abs(H_phalf_0)**2 + abs(H_mhalf_0)**2 + abs(H_phalf_1)**2 + abs(H_mhalf_1)**2 + 3*(abs(H_phalf_t)**2 + abs(H_mhalf_t)**2)\n",
        "\n",
        "  #B_NP\n",
        "  H_S_0 = (g_S*np.sqrt(Q_1)*(F_V_1*m_1 - F_V_3*(q_2/m_l_b)))/(m_l_b - m_l_c)\n",
        "  H_P_0 = (-g_P*np.sqrt(Q_2)*(F_A_1*m_2 + F_A_3*(q_2/m_l_b)))/(m_l_b + m_l_c)\n",
        "  H_SP_phalf_0 = H_P_0 + H_S_0\n",
        "  H_SP_mhalf_0 = -H_P_0 + H_S_0\n",
        "\n",
        "  B_NP_3 = abs(H_SP_phalf_0)**2 + abs(H_SP_mhalf_0)**2\n",
        "\n",
        "  #B_int_4\n",
        "  B_int_4 = (H_phalf_t*np.conjugate(H_SP_phalf_0) + H_mhalf_t*np.conjugate(H_SP_mhalf_0)).real\n",
        "\n",
        "\n",
        "\n",
        "\n",
        "\n",
        "  #differential decay distribution\n",
        "  p_l_c = (np.sqrt(lamda_l))/(2*m_l_b)\n",
        "  gamma_0 = ((G_F**(2))*abs(V_cb)**2*q_2*abs(p_l_c)/(192*np.pi**3*m_l_b**2))*(1-(m_l**2/q_2))**2\n",
        "  D_gamma_uon = gamma_0*(B_SM_1 +((m_l**2)/(2*q_2))*B_SM_2 + (3/2)*B_NP_3 + (3*m_l/np.sqrt(q_2))*B_int_4)\n",
        "\n",
        "  return D_gamma_uon\n",
        "#print(D_gamma_uon)\n",
        "print(D_gamma_uon(m_l,q_2))"
      ],
      "metadata": {
        "colab": {
          "base_uri": "https://localhost:8080/"
        },
        "id": "HsnxpCb6WxA2",
        "outputId": "b25d5431-86ae-423f-85c5-b879043443a3"
      },
      "execution_count": 4,
      "outputs": [
        {
          "output_type": "stream",
          "name": "stdout",
          "text": [
            "4.669978708303762e-13\n",
            "[0.00000000e+00 1.57483310e-17 5.19439827e-17 ... 3.14402661e-18\n",
            " 2.22212249e-18            nan]\n"
          ]
        },
        {
          "output_type": "stream",
          "name": "stderr",
          "text": [
            "<ipython-input-4-6ba7b2de3f57>:62: RuntimeWarning: divide by zero encountered in divide\n",
            "  F_V_1 = sigma_G*(((m_l_b - m_l_c)**2*(f_90 - f_plus)/s_2)) - f_90\n",
            "<ipython-input-4-6ba7b2de3f57>:63: RuntimeWarning: divide by zero encountered in divide\n",
            "  F_V_2 = sigma_G*m_l_b*(m_l_b - m_l_c)*(f_90 - f_plus)/(s_2)\n",
            "<ipython-input-4-6ba7b2de3f57>:64: RuntimeWarning: divide by zero encountered in divide\n",
            "  F_V_3 = sigma_G*(m_l_b*(m_l_b + m_l_c))*(s_2*f_0 + q_2*f_90 - (m_l_b - m_l_c)**2*f_plus)/(q_2*s_2)\n",
            "<ipython-input-4-6ba7b2de3f57>:71: RuntimeWarning: invalid value encountered in subtract\n",
            "  H_V_t = (1+ g_L + g_R)*(np.sqrt(Q_2/q_2)*(F_V_1*m_1 - F_V_3*(q_2/m_l_b)))\n",
            "<ipython-input-4-6ba7b2de3f57>:72: RuntimeWarning: invalid value encountered in subtract\n",
            "  H_V_0 = (1+ g_L + g_R)*(np.sqrt(Q_1/q_2)*(F_V_1*m_2 - F_V_2*(q_2/m_l_b)))\n",
            "<ipython-input-4-6ba7b2de3f57>:73: RuntimeWarning: invalid value encountered in add\n",
            "  H_V_1 = (1+ g_L + g_R)*(np.sqrt(2*Q_1)*(-F_V_1 + F_V_2*(m_2/m_l_b)))\n",
            "<ipython-input-4-6ba7b2de3f57>:92: RuntimeWarning: invalid value encountered in subtract\n",
            "  H_S_0 = (g_S*np.sqrt(Q_1)*(F_V_1*m_1 - F_V_3*(q_2/m_l_b)))/(m_l_b - m_l_c)\n"
          ]
        }
      ]
    },
    {
      "cell_type": "code",
      "source": [
        "from scipy.integrate import quad\n",
        "BR_uon,_= quad(lambda x:D_gamma_uon(m_l,x),m_l**(2),(m_l_b-m_l_c)**(2))\n",
        "print(BR_uon)"
      ],
      "metadata": {
        "colab": {
          "base_uri": "https://localhost:8080/"
        },
        "id": "TWaciY8sW5YT",
        "outputId": "fbbe7c67-ec5b-4a17-c515-0c2372b34ce9"
      },
      "execution_count": 5,
      "outputs": [
        {
          "output_type": "stream",
          "name": "stdout",
          "text": [
            "4.1696483686076366e-15\n"
          ]
        }
      ]
    },
    {
      "cell_type": "code",
      "source": [
        "BR = BR_tau/BR_uon\n",
        "print(BR)\n"
      ],
      "metadata": {
        "colab": {
          "base_uri": "https://localhost:8080/"
        },
        "id": "bemuNcNv1MMd",
        "outputId": "9fbf7594-000e-4f40-bcd9-f69c87742374"
      },
      "execution_count": 6,
      "outputs": [
        {
          "output_type": "stream",
          "name": "stdout",
          "text": [
            "0.12057322410511986\n"
          ]
        }
      ]
    }
  ]
}